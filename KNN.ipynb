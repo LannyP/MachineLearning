{
 "cells": [
  {
   "cell_type": "markdown",
   "metadata": {},
   "source": [
    "# 自己编写实现KNN"
   ]
  },
  {
   "cell_type": "markdown",
   "metadata": {},
   "source": [
    "## 导入相关的包以及数据集"
   ]
  },
  {
   "cell_type": "code",
   "execution_count": 1,
   "metadata": {},
   "outputs": [],
   "source": [
    "import numpy as np\n",
    "import matplotlib.pyplot as plt\n",
    "from sklearn.discriminant_analysis import LinearDiscriminantAnalysis\n",
    "from sklearn.datasets import load_iris\n",
    "from sklearn.model_selection import train_test_split\n",
    "import matplotlib\n",
    "%matplotlib inline"
   ]
  },
  {
   "cell_type": "markdown",
   "metadata": {},
   "source": [
    "## 读取数据集,切分成训练集和测试集"
   ]
  },
  {
   "cell_type": "code",
   "execution_count": 2,
   "metadata": {},
   "outputs": [],
   "source": [
    "#1.读取数据集,切分成训练集和测试集\n",
    "iris = load_iris()\n",
    "X = iris.data\n",
    "y = iris.target\n",
    "X_train,X_test,y_train,y_test,= train_test_split(X,y,test_size = 0.3)"
   ]
  },
  {
   "cell_type": "code",
   "execution_count": 3,
   "metadata": {},
   "outputs": [
    {
     "data": {
      "text/plain": [
       "(105, 4)"
      ]
     },
     "execution_count": 3,
     "metadata": {},
     "output_type": "execute_result"
    }
   ],
   "source": [
    "X_train.shape"
   ]
  },
  {
   "cell_type": "code",
   "execution_count": 10,
   "metadata": {},
   "outputs": [
    {
     "data": {
      "text/plain": [
       "numpy.ndarray"
      ]
     },
     "execution_count": 10,
     "metadata": {},
     "output_type": "execute_result"
    }
   ],
   "source": [
    "type(X_train)"
   ]
  },
  {
   "cell_type": "code",
   "execution_count": 4,
   "metadata": {},
   "outputs": [
    {
     "data": {
      "text/plain": [
       "(45, 4)"
      ]
     },
     "execution_count": 4,
     "metadata": {},
     "output_type": "execute_result"
    }
   ],
   "source": [
    "X_test.shape"
   ]
  },
  {
   "cell_type": "markdown",
   "metadata": {},
   "source": [
    "## 编写KNN算法"
   ]
  },
  {
   "cell_type": "code",
   "execution_count": 5,
   "metadata": {},
   "outputs": [],
   "source": [
    "def KNN_classify(train_data,train_label,test_data,k):\n",
    "    train_size = len(X_train)\n",
    "    labels = []\n",
    "    for i in range(len(test_data)):\n",
    "        #计算欧式距离\n",
    "        diff = np.tile(test_data[i],(train_size,1)) - train_data\n",
    "        sqdiff = diff ** 2\n",
    "        sqDist = np.cumsum(sqdiff,axis = 1)\n",
    "        dist = sqDist[:,-1] ** 0.5\n",
    "        \n",
    "        #对距离进行排序,返回下标\n",
    "        sortedDistIndex = np.argsort(dist)\n",
    "        \n",
    "        #用字典来构建key-value对，key是类别，value是出现次数\n",
    "        classCount = {}\n",
    "        classCount = classCount.fromkeys(set(train_label),0)\n",
    "        for i in range(k):\n",
    "            voteLabel = train_label[sortedDistIndex[i]]\n",
    "            classCount[voteLabel] = classCount[voteLabel] + 1\n",
    "        \n",
    "        maxcount = 0\n",
    "        for key,value in classCount.items():\n",
    "            if value > maxcount:\n",
    "                maxcount = value\n",
    "                label = key\n",
    "                \n",
    "        labels.append(label)\n",
    "    return labels"
   ]
  },
  {
   "cell_type": "markdown",
   "metadata": {},
   "source": [
    "## K=3时，结果比较"
   ]
  },
  {
   "cell_type": "code",
   "execution_count": 9,
   "metadata": {},
   "outputs": [
    {
     "name": "stdout",
     "output_type": "stream",
     "text": [
      "预测结果 真实结果\n",
      "[[1, 2, 2, 1, 0, 0, 2, 1, 2, 0, 1, 0, 0, 2, 1, 2, 1, 2, 0, 2, 0, 1, 1, 1, 1, 2, 1, 1, 0, 2, 0, 1, 0, 1, 2, 0, 2, 0, 1, 1, 0, 0, 2, 1, 2], array([1, 1, 2, 1, 0, 0, 2, 1, 2, 0, 1, 0, 0, 2, 1, 2, 1, 2, 0, 2, 0, 1,\n",
      "       1, 1, 1, 2, 1, 1, 0, 2, 0, 1, 0, 1, 2, 0, 1, 0, 1, 1, 0, 0, 2, 1,\n",
      "       2])]\n"
     ]
    }
   ],
   "source": [
    "classify_result = KNN_classify(X_train,y_train,X_test,3)\n",
    "print('预测结果 真实结果')\n",
    "print([classify_result,y_test])\n"
   ]
  },
  {
   "cell_type": "markdown",
   "metadata": {},
   "source": [
    "## K=4时，结果比较"
   ]
  },
  {
   "cell_type": "code",
   "execution_count": 7,
   "metadata": {},
   "outputs": [
    {
     "name": "stdout",
     "output_type": "stream",
     "text": [
      "预测结果 真实结果\n",
      "[[1 1]\n",
      " [2 2]\n",
      " [2 2]\n",
      " [2 2]\n",
      " [1 1]\n",
      " [2 2]\n",
      " [2 2]\n",
      " [2 1]\n",
      " [1 1]\n",
      " [1 1]\n",
      " [2 2]\n",
      " [0 0]\n",
      " [0 0]\n",
      " [0 0]\n",
      " [2 2]\n",
      " [0 0]\n",
      " [0 0]\n",
      " [1 1]\n",
      " [2 2]\n",
      " [1 1]\n",
      " [2 2]\n",
      " [1 1]\n",
      " [1 2]\n",
      " [2 2]\n",
      " [1 1]\n",
      " [0 0]\n",
      " [0 0]\n",
      " [2 2]\n",
      " [0 0]\n",
      " [2 2]\n",
      " [0 0]\n",
      " [0 0]\n",
      " [0 0]\n",
      " [0 0]\n",
      " [0 0]\n",
      " [1 1]\n",
      " [2 2]\n",
      " [1 1]\n",
      " [0 0]\n",
      " [2 2]\n",
      " [2 2]\n",
      " [2 2]\n",
      " [1 1]\n",
      " [0 0]\n",
      " [2 2]]\n"
     ]
    }
   ],
   "source": [
    "classify_result = KNN_classify(X_train,y_train,X_test,4)\n",
    "print('预测结果 真实结果')\n",
    "print(np.transpose([classify_result,y_test]))"
   ]
  },
  {
   "cell_type": "markdown",
   "metadata": {},
   "source": [
    "# Sklearn中的KNN算法"
   ]
  },
  {
   "cell_type": "markdown",
   "metadata": {},
   "source": [
    "https://www.cnblogs.com/xiaotan-code/p/6680438.html"
   ]
  },
  {
   "cell_type": "code",
   "execution_count": 8,
   "metadata": {},
   "outputs": [
    {
     "name": "stdout",
     "output_type": "stream",
     "text": [
      "Predict_result: [1 2 2 1 0 0 2 1 2 0 1 0 0 2 1 2 1 2 0 2 0 1 1 1 1 2 1 1 0 2 0 1 0 1 2 0 2\n",
      " 0 1 1 0 0 2 1 2]\n",
      "True_result: [1 1 2 1 0 0 2 1 2 0 1 0 0 2 1 2 1 2 0 2 0 1 1 1 1 2 1 1 0 2 0 1 0 1 2 0 1\n",
      " 0 1 1 0 0 2 1 2]\n",
      "[[0. 1. 0.]\n",
      " [0. 0. 1.]\n",
      " [0. 0. 1.]\n",
      " [0. 1. 0.]\n",
      " [1. 0. 0.]\n",
      " [1. 0. 0.]\n",
      " [0. 0. 1.]\n",
      " [0. 1. 0.]\n",
      " [0. 0. 1.]\n",
      " [1. 0. 0.]\n",
      " [0. 1. 0.]\n",
      " [1. 0. 0.]\n",
      " [1. 0. 0.]\n",
      " [0. 0. 1.]\n",
      " [0. 1. 0.]\n",
      " [0. 0. 1.]\n",
      " [0. 1. 0.]\n",
      " [0. 0. 1.]\n",
      " [1. 0. 0.]\n",
      " [0. 0. 1.]\n",
      " [1. 0. 0.]\n",
      " [0. 1. 0.]\n",
      " [0. 1. 0.]\n",
      " [0. 1. 0.]\n",
      " [0. 1. 0.]\n",
      " [0. 0. 1.]\n",
      " [0. 1. 0.]\n",
      " [0. 1. 0.]\n",
      " [1. 0. 0.]\n",
      " [0. 0. 1.]\n",
      " [1. 0. 0.]\n",
      " [0. 1. 0.]\n",
      " [1. 0. 0.]\n",
      " [0. 1. 0.]\n",
      " [0. 0. 1.]\n",
      " [1. 0. 0.]\n",
      " [0. 0. 1.]\n",
      " [1. 0. 0.]\n",
      " [0. 1. 0.]\n",
      " [0. 1. 0.]\n",
      " [1. 0. 0.]\n",
      " [1. 0. 0.]\n",
      " [0. 0. 1.]\n",
      " [0. 1. 0.]\n",
      " [0. 0. 1.]]\n",
      "Accuracy: 0.9555555555555556\n"
     ]
    }
   ],
   "source": [
    "import numpy as np\n",
    "from sklearn import neighbors\n",
    "from sklearn.datasets import load_iris\n",
    "from sklearn.model_selection import train_test_split\n",
    "\n",
    "\n",
    "#1.读取数据集,切分成训练集和测试集\n",
    "iris = load_iris()\n",
    "X = iris.data\n",
    "y = iris.target\n",
    "X_train,X_test,y_train,y_test,= train_test_split(X,y,test_size = 0.3)\n",
    "\n",
    "#2、模型训练及预测\n",
    "model = neighbors.KNeighborsClassifier(n_neighbors = 3)\n",
    "model.fit(X_train,y_train)\n",
    "print('Predict_result:',model.predict(X_test))\n",
    "print('True_result:',y_test)\n",
    "print(model.predict_proba(X_test))\n",
    "print('Accuracy:',model.score(X_test,y_test,sample_weight = None))"
   ]
  },
  {
   "cell_type": "code",
   "execution_count": null,
   "metadata": {},
   "outputs": [],
   "source": []
  }
 ],
 "metadata": {
  "kernelspec": {
   "display_name": "Python 3",
   "language": "python",
   "name": "python3"
  },
  "language_info": {
   "codemirror_mode": {
    "name": "ipython",
    "version": 3
   },
   "file_extension": ".py",
   "mimetype": "text/x-python",
   "name": "python",
   "nbconvert_exporter": "python",
   "pygments_lexer": "ipython3",
   "version": "3.7.0"
  },
  "toc": {
   "base_numbering": 1,
   "nav_menu": {},
   "number_sections": true,
   "sideBar": true,
   "skip_h1_title": false,
   "title_cell": "Table of Contents",
   "title_sidebar": "Contents",
   "toc_cell": false,
   "toc_position": {},
   "toc_section_display": true,
   "toc_window_display": false
  }
 },
 "nbformat": 4,
 "nbformat_minor": 2
}
